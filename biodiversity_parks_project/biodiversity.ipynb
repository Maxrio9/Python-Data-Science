{
 "cells": [
  {
   "cell_type": "markdown",
   "metadata": {},
   "source": [
    "# Introduction\n",
    "\n",
    "The goal of this data is to analyze biodiversity data from the National Park Service, especially the various species, the numbers observed at different national parks.\n",
    "\n",
    "This project will scope, analyze, prepare, plot data and seek to explain the findings from the analysis\n",
    "\n",
    "A few questions this project seeks to answer:\n",
    "\n",
    "- What is the distribution of conservation status for species?\n",
    "- Are certain types of species more likely to be endangered?\n",
    "- Are the differences between species and their conservation status significant?\n",
    "- What animal is most prevelent and what is their distribution amongst parks?\n",
    "\n",
    "**Data sources:**\n",
    "\n",
    "Both `observations.csv` and `Species_info.csv` was provided by [Codecademy.com](https://www.codecademy.com).\n",
    "\n",
    "The data for this project is *inspired* by real data, but is mostly fictional."
   ]
  },
  {
   "cell_type": "markdown",
   "metadata": {},
   "source": [
    "## Scoping\n",
    "\n",
    "It's beneficial to establish the scope of the project at the beginning. The following four sections are to help guide the process and progress. The first will set the high level objectives and intentions. In the next data section we have to look at the data to establish if we can reach the goals of the project. Thirdly, we have to review the methods and questions and if they are aligned with the project goals. Lastly, we have to draw conclusions and describe findings.\n",
    "\n",
    "### Project Goals\n",
    "\n",
    "The perspective is a biodiversity analyst for the National Park Service. The National Parks Service wants to ensure the survival of at-risk species, to maintain the level of biodiversity in their parks. Therefore, the main objective as a data analyst will be to understand the characteristics of species and their conservation status, and those species and their relationsship to the national park. Some questions to pose:\n",
    "\n",
    "- What is the distribution of conservation status for species?\n",
    "- Are there certain types of species more likely to be endangered?\n",
    "- Are the differences between species and their conservation status significant?\n",
    "- What animal is most prevelent and what is their distribution amongst parks?\n",
    "\n",
    "### Data\n",
    "\n",
    "This project had two datasets provided. One `csv` with the species, their category, scientific name, common name and conservation status; The other with the number of individuals observed by scientific name and the National Park where they were observed. This data will be used to analyse the goals of this project.\n",
    "\n",
    "### Analysis\n",
    "\n",
    "In this section, descriptive statistics and data visulization techniques will be employed to understand the data better. Statistical inference will also be used to see if the observed values are statistically significant. Some of the key metrics that will be computed include:\n",
    "\n",
    "1. Distributions\n",
    "2. Counts\n",
    "3. Relationships between species\n",
    "4. Conservation status of species\n",
    "5. Observations of species in parks\n",
    "\n",
    "### Evaluation\n",
    "\n",
    "Lastly it's a good idea to revisit the goals and check if the output of the analysis corresponds to the questions first set to be answered. This section will also reflect on what has been learned in the process, and if any of the questions were unable to be answered. This could also include limitations or if any of the analysis could have been done with different methodologies."
   ]
  },
  {
   "cell_type": "markdown",
   "metadata": {},
   "source": [
    "1. Get a glimpse at the csv files consider possible cleanups and filling of missing data\n",
    "2. Import csv\n",
    "3. Look more in detail what there is to clean up and what there might be to discover\n",
    "4. Clean-Up\n",
    "5. Discovery, visulization and explanation"
   ]
  },
  {
   "cell_type": "markdown",
   "metadata": {},
   "source": [
    "1. Possible merge on scientific_name; either by adding the total number found and areas to species or by adding the category and describition to observations.\n",
    "In the first case there would be data lost, in the second there wouldn't. Therefore we are going with the second option at first.\n",
    "- outer merge on observations with species"
   ]
  },
  {
   "cell_type": "code",
   "execution_count": 43,
   "metadata": {},
   "outputs": [
    {
     "name": "stdout",
     "output_type": "stream",
     "text": [
      "         scientific_name                            park_name  observations\n",
      "count              23296                                23296  23296.000000\n",
      "unique              5541                                    4           NaN\n",
      "top     Myotis lucifugus  Great Smoky Mountains National Park           NaN\n",
      "freq                  12                                 5824           NaN\n",
      "mean                 NaN                                  NaN    142.287904\n",
      "std                  NaN                                  NaN     69.890532\n",
      "min                  NaN                                  NaN      9.000000\n",
      "25%                  NaN                                  NaN     86.000000\n",
      "50%                  NaN                                  NaN    124.000000\n",
      "75%                  NaN                                  NaN    195.000000\n",
      "max                  NaN                                  NaN    321.000000\n",
      "              category    scientific_name        common_names  \\\n",
      "count             5824               5824                5824   \n",
      "unique               7               5541                5504   \n",
      "top     Vascular Plant  Castor canadensis  Brachythecium Moss   \n",
      "freq              4470                  3                   7   \n",
      "\n",
      "       conservation_status  \n",
      "count                  191  \n",
      "unique                   4  \n",
      "top     Species of Concern  \n",
      "freq                   161  \n",
      "category             Amphibian  Bird  Fish  Mammal  Nonvascular Plant  \\\n",
      "conservation_status                                                     \n",
      "Endangered                 1.0   4.0   3.0     7.0                0.0   \n",
      "In Recovery                0.0   3.0   0.0     1.0                0.0   \n",
      "Species of Concern         4.0  72.0   4.0    28.0                5.0   \n",
      "Threatened                 2.0   0.0   4.0     2.0                0.0   \n",
      "\n",
      "category             Reptile  Vascular Plant  \n",
      "conservation_status                           \n",
      "Endangered               0.0             1.0  \n",
      "In Recovery              0.0             0.0  \n",
      "Species of Concern       5.0            43.0  \n",
      "Threatened               0.0             2.0  \n"
     ]
    }
   ],
   "source": [
    "import pandas as pd\n",
    "import matplotlib.pyplot as plt\n",
    "from matplotlib import rc\n",
    "import numpy as np\n",
    "import seaborn as sns\n",
    "\n",
    "observations = pd.read_csv(\"observations.csv\")\n",
    "species = pd.read_csv(\"species_info.csv\")\n",
    "\n",
    "print(observations.describe(include = \"all\"))\n",
    "print(species.describe(include = \"all\"))\n",
    "\n",
    "# print(species.conservation_status.unique())\n",
    "# print(species.category.value_counts())\n",
    "\n",
    "cons_species = species.dropna(subset=\"conservation_status\")\n",
    "cons_species = cons_species.pivot_table(columns = \"category\", index = \"conservation_status\", values = \"scientific_name\", aggfunc = \"count\")\n",
    "cons_species = cons_species.fillna(value=0)\n",
    "print(cons_species)"
   ]
  },
  {
   "cell_type": "markdown",
   "metadata": {},
   "source": [
    "2. Create a stacked bar chart with the conservations status on the x axis and the number of individuals by category on the y axis."
   ]
  },
  {
   "cell_type": "code",
   "execution_count": 80,
   "metadata": {},
   "outputs": [
    {
     "name": "stdout",
     "output_type": "stream",
     "text": [
      "conservation_status\n",
      "Endangered             1.0\n",
      "In Recovery            0.0\n",
      "Species of Concern    43.0\n",
      "Threatened             2.0\n",
      "Name: Vascular Plant, dtype: float64\n"
     ]
    },
    {
     "data": {
      "image/png": "[encoded data removed]",
      "text/plain": [
       "<Figure size 640x480 with 1 Axes>"
      ]
     },
     "metadata": {},
     "output_type": "display_data"
    },
    {
     "data": {
      "text/plain": [
       "<Figure size 640x480 with 0 Axes>"
      ]
     },
     "metadata": {},
     "output_type": "display_data"
    }
   ],
   "source": [
    "# Values of each group\n",
    "amphibians = cons_species.Amphibian\n",
    "birds = cons_species.Bird\n",
    "fish = cons_species.Fish\n",
    "mammals = cons_species.Mammal\n",
    "nonvascular_plant = cons_species[\"Nonvascular Plant\"]\n",
    "reptiles = cons_species.Reptile\n",
    "vascular_plant = cons_species[\"Vascular Plant\"]\n",
    "print(vascular_plant)\n",
    "\n",
    "# Heights for bars\n",
    "b_2 = np.add(amphibians, birds)\n",
    "b_3 = np.add(b_2, fish)\n",
    "b_4 = np.add(b_3, mammals)\n",
    "b_5 = np.add(b_4, nonvascular_plant)\n",
    "b_6 = np.add(b_5, reptiles)\n",
    "\n",
    "# Position of bars on the x axis\n",
    "r = [0, 1.2, 2.4, 3.6]\n",
    "\n",
    "# Names of group and bar width\n",
    "conservation_status = [\"Endangered\", \"In Recovery\", \"Species of Concern\", \"Threatened\"]\n",
    "barWidth = 1\n",
    "\n",
    "# Create amphibian bars\n",
    "plt.bar(r, amphibians, color = \"aqua\", width = barWidth)\n",
    "# Create bird bars\n",
    "plt.bar(r, birds, bottom = amphibians, color = \"red\", width = barWidth)\n",
    "# Create fish bars\n",
    "plt.bar(r, fish, bottom = b_2, color = \"blue\", width = barWidth)\n",
    "# Create mammal bars\n",
    "plt.bar(r, mammals, bottom = b_3, color = \"brown\", width = barWidth)\n",
    "# Create nonvascular plant bars\n",
    "plt.bar(r, nonvascular_plant, bottom = b_4, color = \"lime\", width = barWidth)\n",
    "# Create reptiles bars\n",
    "plt.bar(r, reptiles, bottom = b_5, color = \"gray\", width = barWidth)\n",
    "# Create vascular plant bars\n",
    "plt.bar(r, vascular_plant, bottom = b_6, color = \"green\", width = barWidth)\n",
    "\n",
    "# Custom x axis\n",
    "plt.xticks(r, conservation_status)\n",
    "plt.xlabel(\"Conservation Status\", fontweight = \"bold\")\n",
    "plt.legend([\"Ampibian\", \"Bird\", \"Fish\", \"Mammal\", \"Non-Vascular Plant\", \"Reptile\", \"Vacular Plant\"])\n",
    "\n",
    "plt.show()\n",
    "plt.clf()"
   ]
  },
  {
   "cell_type": "markdown",
   "metadata": {},
   "source": [
    "As we can see, most of the species in our dataset have the conservation satus of \"Species of Concern\" with the next largest being \"Endangered\".\n",
    "The majority of species in the \"Species of Concern\" category are Fish, Birds, Vascular Plants and Mammals."
   ]
  },
  {
   "cell_type": "markdown",
   "metadata": {},
   "source": [
    "3. Pivot the first table by the scientific name and the total amount they were seen in each park then connect it with the second dataset to add the common names. One-Hot Encode Park Names"
   ]
  },
  {
   "cell_type": "code",
   "execution_count": 97,
   "metadata": {},
   "outputs": [
    {
     "name": "stdout",
     "output_type": "stream",
     "text": [
      "1785\n"
     ]
    }
   ],
   "source": [
    "observations2 = pd.get_dummies(data = observations, prefix = \"\", prefix_sep = \"\", columns = [\"park_name\"])\n",
    "observations2 = observations2.groupby(\"scientific_name\", as_index = False).sum()\n",
    "# print(observations2.head())\n",
    "# print(observations2.describe())\n",
    "observations_most = observations2.observations.max()\n",
    "print(observations_most)"
   ]
  },
  {
   "cell_type": "markdown",
   "metadata": {},
   "source": [
    "We found out that we saw every species within this dataset within every one of the national parks at least once and a maximum of three times."
   ]
  }
 ],
 "metadata": {
  "kernelspec": {
   "display_name": "Python 3",
   "language": "python",
   "name": "python3"
  },
  "language_info": {
   "codemirror_mode": {
    "name": "ipython",
    "version": 3
   },
   "file_extension": ".py",
   "mimetype": "text/x-python",
   "name": "python",
   "nbconvert_exporter": "python",
   "pygments_lexer": "ipython3",
   "version": "3.10.2"
  }
 },
 "nbformat": 4,
 "nbformat_minor": 4
}
