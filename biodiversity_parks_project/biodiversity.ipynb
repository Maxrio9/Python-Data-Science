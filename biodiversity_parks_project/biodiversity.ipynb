{
 "cells": [
  {
   "cell_type": "markdown",
   "metadata": {},
   "source": [
    "1. Get a glimpse at the csv files consider possible cleanups and filling of missing data\n",
    "2. Import csv\n",
    "3. Look more in detail what there is to clean up and what there might be to discover\n",
    "4. Clean-Up\n",
    "5. Discovery, visulization and explanation"
   ]
  }
 ],
 "metadata": {
  "kernelspec": {
   "display_name": "Python 3",
   "language": "python",
   "name": "python3"
  },
  "language_info": {
   "codemirror_mode": {
    "name": "ipython",
    "version": 3
   },
   "file_extension": ".py",
   "mimetype": "text/x-python",
   "name": "python",
   "nbconvert_exporter": "python",
   "pygments_lexer": "ipython3",
   "version": "3.7.6"
  }
 },
 "nbformat": 4,
 "nbformat_minor": 4
}
