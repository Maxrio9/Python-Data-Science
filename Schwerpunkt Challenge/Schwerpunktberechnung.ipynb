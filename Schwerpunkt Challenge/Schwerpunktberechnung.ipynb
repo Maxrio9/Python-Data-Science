{
 "cells": [
  {
   "cell_type": "markdown",
   "id": "fc6f5b5b",
   "metadata": {},
   "source": [
    "Auflösung des ersten Bildes sind 3680x2760 px\n",
    "Auflösung des zweiten Bildes sind 4032x3024 px\n",
    "\n",
    "Berechnung des Schwerpunktes kann durch die Annahme von gleicher Dichte\n",
    "durch Addition der x und y Werte der gelben Pixel und anschließendes\n",
    "dividieren durch die Anzahl der gelben Pixel.\n",
    "\n"
   ]
  }
 ],
 "metadata": {
  "kernelspec": {
   "display_name": "Python 3",
   "language": "python",
   "name": "python3"
  },
  "language_info": {
   "codemirror_mode": {
    "name": "ipython",
    "version": 3
   },
   "file_extension": ".py",
   "mimetype": "text/x-python",
   "name": "python",
   "nbconvert_exporter": "python",
   "pygments_lexer": "ipython3",
   "version": "3.8.8"
  }
 },
 "nbformat": 4,
 "nbformat_minor": 5
}
