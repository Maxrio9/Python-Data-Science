{
 "cells": [
  {
   "cell_type": "markdown",
   "metadata": {},
   "source": [
    "1. Get a glimpse at the csv files consider possible cleanups and filling of missing data\n",
    "2. Import csv\n",
    "3. Look more in detail what there is to clean up and what there might be to discover\n",
    "4. Clean-Up\n",
    "5. Discovery, visulization and explanation"
   ]
  },
  {
   "cell_type": "markdown",
   "metadata": {},
   "source": [
    "1. Possible merge on scientific_name; either by adding the total number found and areas to species or by adding the category and describition to observations.\n",
    "In the first case there would be data lost, in the second there wouldn't. Therefore we are going with the second option at first.\n",
    "- outer merge on observations with species"
   ]
  },
  {
   "cell_type": "code",
   "execution_count": 6,
   "metadata": {},
   "outputs": [
    {
     "name": "stdout",
     "output_type": "stream",
     "text": [
      "         scientific_name                            park_name  observations\n",
      "count              23296                                23296  23296.000000\n",
      "unique              5541                                    4           NaN\n",
      "top     Myotis lucifugus  Great Smoky Mountains National Park           NaN\n",
      "freq                  12                                 5824           NaN\n",
      "mean                 NaN                                  NaN    142.287904\n",
      "std                  NaN                                  NaN     69.890532\n",
      "min                  NaN                                  NaN      9.000000\n",
      "25%                  NaN                                  NaN     86.000000\n",
      "50%                  NaN                                  NaN    124.000000\n",
      "75%                  NaN                                  NaN    195.000000\n",
      "max                  NaN                                  NaN    321.000000\n",
      "              category    scientific_name        common_names  \\\n",
      "count             5824               5824                5824   \n",
      "unique               7               5541                5504   \n",
      "top     Vascular Plant  Castor canadensis  Brachythecium Moss   \n",
      "freq              4470                  3                   7   \n",
      "\n",
      "       conservation_status  \n",
      "count                  191  \n",
      "unique                   4  \n",
      "top     Species of Concern  \n",
      "freq                   161  \n",
      "[nan 'Species of Concern' 'Endangered' 'Threatened' 'In Recovery']\n"
     ]
    }
   ],
   "source": [
    "import pandas as pd\n",
    "import matplotlib.pyplot as plt\n",
    "import numpy as np\n",
    "\n",
    "observations = pd.read_csv(\"observations.csv\")\n",
    "species = pd.read_csv(\"species_info.csv\")\n",
    "\n",
    "print(observations.describe(include = \"all\"))\n",
    "print(species.describe(include = \"all\"))\n",
    "\n",
    "print(species.conservation_status.unique())"
   ]
  }
 ],
 "metadata": {
  "kernelspec": {
   "display_name": "Python 3",
   "language": "python",
   "name": "python3"
  },
  "language_info": {
   "codemirror_mode": {
    "name": "ipython",
    "version": 3
   },
   "file_extension": ".py",
   "mimetype": "text/x-python",
   "name": "python",
   "nbconvert_exporter": "python",
   "pygments_lexer": "ipython3",
   "version": "3.12.3"
  }
 },
 "nbformat": 4,
 "nbformat_minor": 4
}
